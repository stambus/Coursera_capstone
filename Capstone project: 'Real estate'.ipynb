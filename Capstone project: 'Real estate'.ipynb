{
    "nbformat_minor": 1, 
    "cells": [
        {
            "execution_count": 1, 
            "cell_type": "code", 
            "metadata": {}, 
            "outputs": [
                {
                    "output_type": "stream", 
                    "name": "stdout", 
                    "text": "Collecting folium\n\u001b[?25l  Downloading https://files.pythonhosted.org/packages/72/ff/004bfe344150a064e558cb2aedeaa02ecbf75e60e148a55a9198f0c41765/folium-0.10.0-py2.py3-none-any.whl (91kB)\n\u001b[K     |\u2588\u2588\u2588\u2588\u2588\u2588\u2588\u2588\u2588\u2588\u2588\u2588\u2588\u2588\u2588\u2588\u2588\u2588\u2588\u2588\u2588\u2588\u2588\u2588\u2588\u2588\u2588\u2588\u2588\u2588\u2588\u2588| 92kB 1.0MB/s eta 0:00:01\n\u001b[?25hRequirement already satisfied: requests in /opt/conda/envs/Python36/lib/python3.6/site-packages (from folium) (2.21.0)\nRequirement already satisfied: jinja2>=2.9 in /opt/conda/envs/Python36/lib/python3.6/site-packages (from folium) (2.10)\nRequirement already satisfied: numpy in /opt/conda/envs/Python36/lib/python3.6/site-packages (from folium) (1.15.4)\nCollecting branca>=0.3.0 (from folium)\n  Downloading https://files.pythonhosted.org/packages/63/36/1c93318e9653f4e414a2e0c3b98fc898b4970e939afeedeee6075dd3b703/branca-0.3.1-py3-none-any.whl\nRequirement already satisfied: idna<2.9,>=2.5 in /opt/conda/envs/Python36/lib/python3.6/site-packages (from requests->folium) (2.8)\nRequirement already satisfied: urllib3<1.25,>=1.21.1 in /opt/conda/envs/Python36/lib/python3.6/site-packages (from requests->folium) (1.24.1)\nRequirement already satisfied: chardet<3.1.0,>=3.0.2 in /opt/conda/envs/Python36/lib/python3.6/site-packages (from requests->folium) (3.0.4)\nRequirement already satisfied: certifi>=2017.4.17 in /opt/conda/envs/Python36/lib/python3.6/site-packages (from requests->folium) (2019.6.16)\nRequirement already satisfied: MarkupSafe>=0.23 in /opt/conda/envs/Python36/lib/python3.6/site-packages (from jinja2>=2.9->folium) (1.1.0)\nRequirement already satisfied: six in /opt/conda/envs/Python36/lib/python3.6/site-packages (from branca>=0.3.0->folium) (1.12.0)\nInstalling collected packages: branca, folium\nSuccessfully installed branca-0.3.1 folium-0.10.0\nPackages installed\n"
                }
            ], 
            "source": "import pandas as pd\nimport numpy as np\nimport matplotlib.pyplot as plt\nimport seaborn as sns\nfrom sklearn.linear_model import LinearRegression\nfrom geopy.geocoders import Nominatim\n! pip install folium\nimport folium\n\nprint('Packages installed')"
        }, 
        {
            "execution_count": 7, 
            "cell_type": "code", 
            "metadata": {}, 
            "outputs": [], 
            "source": "# Real estate data\nsheet_url_RD = 'https://docs.google.com/spreadsheets/d/1CiUj-cWcO1D7KN_qfs6jArjfHf9njpUGlrc3Lk2GxO0/edit#gid=915412023'\ncsv_export_url_RD = sheet_url_RD.replace('/edit#gid=', '/export?format=csv&gid=')\naruodas_df = pd.read_csv(csv_export_url_RD)\naruodas_df.rename(columns={'Adresas': 'Adress',\n                     'Rajonas':'Neighbourhood',\n                     'Plotas':'Area',\n                     'Kaina':'Price',\n                     'Metai': 'Year',\n                     '\u0160ildymas': 'Heating',\n                     'Kambari\u0173 sk': 'Rooms',\n                     'Pastato tipas':'Type'}, inplace=True)\nneigh_list = aruodas_df['Neighbourhood'].unique()\n"
        }, 
        {
            "execution_count": 13, 
            "cell_type": "code", 
            "metadata": {}, 
            "outputs": [
                {
                    "execution_count": 13, 
                    "metadata": {}, 
                    "data": {
                        "text/html": "<div>\n<style scoped>\n    .dataframe tbody tr th:only-of-type {\n        vertical-align: middle;\n    }\n\n    .dataframe tbody tr th {\n        vertical-align: top;\n    }\n\n    .dataframe thead th {\n        text-align: right;\n    }\n</style>\n<table border=\"1\" class=\"dataframe\">\n  <thead>\n    <tr style=\"text-align: right;\">\n      <th></th>\n      <th>Adress</th>\n      <th>Neighbourhood</th>\n      <th>Rooms</th>\n      <th>Area</th>\n      <th>Price</th>\n      <th>Heating</th>\n      <th>Type</th>\n      <th>Year</th>\n    </tr>\n  </thead>\n  <tbody>\n    <tr>\n      <th>0</th>\n      <td>Elbingo g.</td>\n      <td>Pilait\u0117</td>\n      <td>1</td>\n      <td>64.0</td>\n      <td>87000</td>\n      <td>Centriniskolektorinis</td>\n      <td>M\u016brinis</td>\n      <td>2018</td>\n    </tr>\n    <tr>\n      <th>1</th>\n      <td>Elbingo g.</td>\n      <td>Pilait\u0117</td>\n      <td>3</td>\n      <td>55.0</td>\n      <td>76000</td>\n      <td>Centriniskolektorinis</td>\n      <td>M\u016brinis</td>\n      <td>2018</td>\n    </tr>\n    <tr>\n      <th>2</th>\n      <td>Elbingo g.</td>\n      <td>Pilait\u0117</td>\n      <td>2</td>\n      <td>48.0</td>\n      <td>69000</td>\n      <td>Centriniskolektorinis</td>\n      <td>M\u016brinis</td>\n      <td>2018</td>\n    </tr>\n    <tr>\n      <th>3</th>\n      <td>Elbingo g.</td>\n      <td>Pilait\u0117</td>\n      <td>2</td>\n      <td>48.0</td>\n      <td>86000</td>\n      <td>Centriniskolektorinis</td>\n      <td>M\u016brinis</td>\n      <td>2018</td>\n    </tr>\n    <tr>\n      <th>4</th>\n      <td>\u017dali\u0173j\u0173 E\u017eer\u0173 g.</td>\n      <td>Santari\u0161k\u0117s</td>\n      <td>2</td>\n      <td>51.5</td>\n      <td>88000</td>\n      <td>Centrinis</td>\n      <td>M\u016brinis</td>\n      <td>1982statyba.2017renovacija</td>\n    </tr>\n  </tbody>\n</table>\n</div>", 
                        "text/plain": "             Adress Neighbourhood  Rooms  Area  Price                Heating  \\\n0        Elbingo g.       Pilait\u0117      1  64.0  87000  Centriniskolektorinis   \n1        Elbingo g.       Pilait\u0117      3  55.0  76000  Centriniskolektorinis   \n2        Elbingo g.       Pilait\u0117      2  48.0  69000  Centriniskolektorinis   \n3        Elbingo g.       Pilait\u0117      2  48.0  86000  Centriniskolektorinis   \n4  \u017dali\u0173j\u0173 E\u017eer\u0173 g.   Santari\u0161k\u0117s      2  51.5  88000              Centrinis   \n\n      Type                        Year  \n0  M\u016brinis                        2018  \n1  M\u016brinis                        2018  \n2  M\u016brinis                        2018  \n3  M\u016brinis                        2018  \n4  M\u016brinis  1982statyba.2017renovacija  "
                    }, 
                    "output_type": "execute_result"
                }
            ], 
            "source": "# DataFrame for housing prices based on current market in aruodas.lt advertisments.\naruodas_df.head()"
        }, 
        {
            "execution_count": 14, 
            "cell_type": "code", 
            "metadata": {}, 
            "outputs": [
                {
                    "execution_count": 14, 
                    "metadata": {}, 
                    "data": {
                        "text/plain": "(3684, 8)"
                    }, 
                    "output_type": "execute_result"
                }
            ], 
            "source": "#Size of the dataframe\naruodas_df.shape"
        }, 
        {
            "execution_count": 4, 
            "cell_type": "code", 
            "metadata": {}, 
            "outputs": [
                {
                    "execution_count": 4, 
                    "metadata": {}, 
                    "data": {
                        "text/html": "<div>\n<style scoped>\n    .dataframe tbody tr th:only-of-type {\n        vertical-align: middle;\n    }\n\n    .dataframe tbody tr th {\n        vertical-align: top;\n    }\n\n    .dataframe thead th {\n        text-align: right;\n    }\n</style>\n<table border=\"1\" class=\"dataframe\">\n  <thead>\n    <tr style=\"text-align: right;\">\n      <th></th>\n      <th>Draud\u0117jo kodas (code)</th>\n      <th>Juridini\u0173 asmen\u0173 registro kodas (jarCode)</th>\n      <th>Pavadinimas (name)</th>\n      <th>Savivaldyb\u0117 kurioje registruota(municipality)</th>\n      <th>Ekonomin\u0117s veiklos r\u016b\u0161ies kodas(ecoActCode)</th>\n      <th>Ekonomin\u0117s veiklos r\u016b\u0161ies pavadinimas(ecoActName)</th>\n      <th>M\u0117nuo (month)</th>\n      <th>Vidutinis darbo u\u017emokestis (avgWage)</th>\n      <th>Apdraust\u0173j\u0173 skai\u010dius (numInsured)</th>\n      <th>Vidutinis darbo u\u017emokestis II (avgWage2)</th>\n      <th>Apdraust\u0173j\u0173 skai\u010dius II (numInsured2)</th>\n      <th>Valstybinio socialinio draudimo \u012fmoka (tax)</th>\n    </tr>\n  </thead>\n  <tbody>\n    <tr>\n      <th>0</th>\n      <td>42399</td>\n      <td>NaN</td>\n      <td>LATVIJOS RESPUBLIKOS AMBASADA</td>\n      <td>Vilniaus m. sav.</td>\n      <td>NaN</td>\n      <td>NaN</td>\n      <td>201901</td>\n      <td>NaN</td>\n      <td>3</td>\n      <td>NaN</td>\n      <td>0</td>\n      <td>NaN</td>\n    </tr>\n    <tr>\n      <th>1</th>\n      <td>44717</td>\n      <td>NaN</td>\n      <td>APA\u0160TALINE NUNCIATURA</td>\n      <td>Vilniaus m. sav.</td>\n      <td>NaN</td>\n      <td>NaN</td>\n      <td>201901</td>\n      <td>938.37</td>\n      <td>6</td>\n      <td>NaN</td>\n      <td>0</td>\n      <td>1233.92</td>\n    </tr>\n    <tr>\n      <th>2</th>\n      <td>45838</td>\n      <td>NaN</td>\n      <td>GOETHE-INSTITUT</td>\n      <td>Vilniaus m. sav.</td>\n      <td>NaN</td>\n      <td>NaN</td>\n      <td>201901</td>\n      <td>1712.98</td>\n      <td>8</td>\n      <td>NaN</td>\n      <td>0</td>\n      <td>3075.15</td>\n    </tr>\n    <tr>\n      <th>3</th>\n      <td>50764</td>\n      <td>NaN</td>\n      <td>BRITU TARYBA</td>\n      <td>Vilniaus m. sav.</td>\n      <td>NaN</td>\n      <td>NaN</td>\n      <td>201901</td>\n      <td>2266.82</td>\n      <td>5</td>\n      <td>NaN</td>\n      <td>0</td>\n      <td>2101.23</td>\n    </tr>\n    <tr>\n      <th>4</th>\n      <td>51006</td>\n      <td>NaN</td>\n      <td>LENKIJOS RESPUBLIKOS AMBASADA</td>\n      <td>Vilniaus m. sav.</td>\n      <td>NaN</td>\n      <td>NaN</td>\n      <td>201901</td>\n      <td>1278.02</td>\n      <td>22</td>\n      <td>NaN</td>\n      <td>0</td>\n      <td>6355.74</td>\n    </tr>\n  </tbody>\n</table>\n</div>", 
                        "text/plain": "   Draud\u0117jo kodas (code)  Juridini\u0173 asmen\u0173 registro kodas (jarCode)  \\\n0                  42399                                        NaN   \n1                  44717                                        NaN   \n2                  45838                                        NaN   \n3                  50764                                        NaN   \n4                  51006                                        NaN   \n\n              Pavadinimas (name)  \\\n0  LATVIJOS RESPUBLIKOS AMBASADA   \n1          APA\u0160TALINE NUNCIATURA   \n2                GOETHE-INSTITUT   \n3                   BRITU TARYBA   \n4  LENKIJOS RESPUBLIKOS AMBASADA   \n\n  Savivaldyb\u0117 kurioje registruota(municipality)  \\\n0                              Vilniaus m. sav.   \n1                              Vilniaus m. sav.   \n2                              Vilniaus m. sav.   \n3                              Vilniaus m. sav.   \n4                              Vilniaus m. sav.   \n\n   Ekonomin\u0117s veiklos r\u016b\u0161ies kodas(ecoActCode)  \\\n0                                          NaN   \n1                                          NaN   \n2                                          NaN   \n3                                          NaN   \n4                                          NaN   \n\n  Ekonomin\u0117s veiklos r\u016b\u0161ies pavadinimas(ecoActName)  M\u0117nuo (month)  \\\n0                                               NaN         201901   \n1                                               NaN         201901   \n2                                               NaN         201901   \n3                                               NaN         201901   \n4                                               NaN         201901   \n\n   Vidutinis darbo u\u017emokestis (avgWage)  Apdraust\u0173j\u0173 skai\u010dius (numInsured)  \\\n0                                   NaN                                  3   \n1                                938.37                                  6   \n2                               1712.98                                  8   \n3                               2266.82                                  5   \n4                               1278.02                                 22   \n\n   Vidutinis darbo u\u017emokestis II (avgWage2)  \\\n0                                       NaN   \n1                                       NaN   \n2                                       NaN   \n3                                       NaN   \n4                                       NaN   \n\n   Apdraust\u0173j\u0173 skai\u010dius II (numInsured2)  \\\n0                                      0   \n1                                      0   \n2                                      0   \n3                                      0   \n4                                      0   \n\n   Valstybinio socialinio draudimo \u012fmoka (tax)  \n0                                          NaN  \n1                                      1233.92  \n2                                      3075.15  \n3                                      2101.23  \n4                                      6355.74  "
                    }, 
                    "output_type": "execute_result"
                }
            ], 
            "source": "# Companies in Vilnius data\nsheet_url_ED = 'https://docs.google.com/spreadsheets/d/1JKj4-dYQqW6gB_Xr3inEZfr88YogIDVTGbezOgbJxIc/edit#gid=1786717215'\ncsv_export_url_ED = sheet_url_ED.replace('/edit#gid=', '/export?format=csv&gid=')\nenterprise_df = pd.read_csv(csv_export_url_ED)\nenterprise_df.head()"
        }, 
        {
            "execution_count": 19, 
            "cell_type": "code", 
            "metadata": {}, 
            "outputs": [
                {
                    "execution_count": 19, 
                    "metadata": {}, 
                    "data": {
                        "text/plain": "34978"
                    }, 
                    "output_type": "execute_result"
                }
            ], 
            "source": "enterprise_name = enterprise_df['Pavadinimas (name)'].to_list()\nfix_name = []\nfor i in enterprise_name:\n    ab = 'AKCINE'\n    uab = 'U\u017dDAROJI'\n    vsi = 'VIE\u0160OJI'\n    vi = 'VALSTYBES'\n    if uab in i:\n        name = i.replace('U\u017dDAROJI','').replace('AKCINE','').replace('BENDROVE','UAB')\n        if name[0] == ' ':\n            new_name = name[1:]\n            if new_name[0] == ' ':\n                new_name_1 = new_name[1:]\n                fix_name.append(new_name_1)\n            else:\n                fix_name.append(new_name)\n        else:\n            fix_name.append(name)\n    elif ab in i:\n        name = i.replace('AKCINE','').replace('BENDROVE','AB')\n        if name[0] == ' ':\n            new_name = name[1:]\n            fix_name.append(new_name)\n        else:\n            fix_name.append(name)\n    elif vsi in i:\n        name = i.replace('VIE\u0160OJI','').replace('ISTAIGA','V\u0161\u012f')\n        if name[0] == ' ':\n            new_name = name[1:]\n            fix_name.append(new_name)\n        else:\n            fix_name.append(name)\n    elif vi in i:\n        name = i.replace('VALSTYBES','').replace('IMONE','V\u012f')\n        if name[0] == ' ':\n            new_name = name[1:]\n            fix_name.append(new_name)\n        else:\n            fix_name.append(name)\n    else:\n        fix_name.append(i)\nlen(fix_name)"
        }, 
        {
            "execution_count": 15, 
            "cell_type": "code", 
            "metadata": {}, 
            "outputs": [
                {
                    "execution_count": 15, 
                    "metadata": {}, 
                    "data": {
                        "text/plain": "34978"
                    }, 
                    "output_type": "execute_result"
                }
            ], 
            "source": "len(enterprise_name)"
        }, 
        {
            "execution_count": 3, 
            "cell_type": "code", 
            "metadata": {}, 
            "outputs": [
                {
                    "output_type": "stream", 
                    "name": "stderr", 
                    "text": "/opt/conda/envs/Python36/lib/python3.6/site-packages/ipykernel/__main__.py:1: DeprecationWarning: Using Nominatim with the default \"geopy/1.18.1\" `user_agent` is strongly discouraged, as it violates Nominatim's ToS https://operations.osmfoundation.org/policies/nominatim/ and may possibly cause 403 and 429 HTTP errors. Please specify a custom `user_agent` with `Nominatim(user_agent=\"my-application\")` or by overriding the default `user_agent`: `geopy.geocoders.options.default_user_agent = \"my-application\"`. In geopy 2.0 this will become an exception.\n  if __name__ == '__main__':\n"
                }
            ], 
            "source": "geolocator = Nominatim()\nlat_list = []\nlong_list = []\nfor i in neigh_list:\n    locations = geolocator.geocode(i)\n    try:\n        lat_list.append(locations.latitude)\n        long_list.append(locations.longitude)\n    except:\n        lat_list.append(None)\n        long_list.append(None)\n        "
        }, 
        {
            "execution_count": 5, 
            "cell_type": "code", 
            "metadata": {}, 
            "outputs": [
                {
                    "execution_count": 5, 
                    "metadata": {}, 
                    "data": {
                        "text/html": "<div>\n<style scoped>\n    .dataframe tbody tr th:only-of-type {\n        vertical-align: middle;\n    }\n\n    .dataframe tbody tr th {\n        vertical-align: top;\n    }\n\n    .dataframe thead th {\n        text-align: right;\n    }\n</style>\n<table border=\"1\" class=\"dataframe\">\n  <thead>\n    <tr style=\"text-align: right;\">\n      <th></th>\n      <th>Neighbourhood</th>\n      <th>Latitude</th>\n      <th>Longitude</th>\n    </tr>\n  </thead>\n  <tbody>\n    <tr>\n      <th>0</th>\n      <td>Pilait\u0117</td>\n      <td>54.705676</td>\n      <td>25.183502</td>\n    </tr>\n    <tr>\n      <th>1</th>\n      <td>Santari\u0161k\u0117s</td>\n      <td>54.751423</td>\n      <td>25.279425</td>\n    </tr>\n    <tr>\n      <th>2</th>\n      <td>\u017dv\u0117rynas</td>\n      <td>54.694633</td>\n      <td>25.251033</td>\n    </tr>\n    <tr>\n      <th>3</th>\n      <td>Pa\u0161ilai\u010diai</td>\n      <td>54.728487</td>\n      <td>25.228916</td>\n    </tr>\n    <tr>\n      <th>4</th>\n      <td>Burbi\u0161k\u0117s</td>\n      <td>54.751350</td>\n      <td>24.527134</td>\n    </tr>\n  </tbody>\n</table>\n</div>", 
                        "text/plain": "  Neighbourhood   Latitude  Longitude\n0       Pilait\u0117  54.705676  25.183502\n1   Santari\u0161k\u0117s  54.751423  25.279425\n2      \u017dv\u0117rynas  54.694633  25.251033\n3   Pa\u0161ilai\u010diai  54.728487  25.228916\n4     Burbi\u0161k\u0117s  54.751350  24.527134"
                    }, 
                    "output_type": "execute_result"
                }
            ], 
            "source": "grouped_data = pd.DataFrame(data={'Neighbourhood':neigh_list, 'Latitude':lat_list, 'Longitude':long_list})\ngrouped_data.dropna(inplace=True)\ngrouped_data.sort_values(by=['Neighbourhood']).reset_index().drop(columns=['index'])\ngrouped_data.head()"
        }, 
        {
            "execution_count": 48, 
            "cell_type": "code", 
            "metadata": {}, 
            "outputs": [
                {
                    "output_type": "stream", 
                    "name": "stderr", 
                    "text": "/opt/conda/envs/Python36/lib/python3.6/site-packages/ipykernel/__main__.py:2: FutureWarning: using a dict on a Series for aggregation\nis deprecated and will be removed in a future version\n  from ipykernel import kernelapp as app\n"
                }, 
                {
                    "execution_count": 48, 
                    "metadata": {}, 
                    "data": {
                        "text/html": "<div>\n<style scoped>\n    .dataframe tbody tr th:only-of-type {\n        vertical-align: middle;\n    }\n\n    .dataframe tbody tr th {\n        vertical-align: top;\n    }\n\n    .dataframe thead th {\n        text-align: right;\n    }\n</style>\n<table border=\"1\" class=\"dataframe\">\n  <thead>\n    <tr style=\"text-align: right;\">\n      <th></th>\n      <th>Neighbourhood</th>\n      <th>Average price</th>\n    </tr>\n  </thead>\n  <tbody>\n    <tr>\n      <th>0</th>\n      <td>Antakalnis</td>\n      <td>1960.942613</td>\n    </tr>\n    <tr>\n      <th>1</th>\n      <td>Antavilis</td>\n      <td>973.478085</td>\n    </tr>\n    <tr>\n      <th>2</th>\n      <td>Auk\u0161tieji Paneriai</td>\n      <td>923.813263</td>\n    </tr>\n    <tr>\n      <th>3</th>\n      <td>Avi\u017eieniai</td>\n      <td>1421.594033</td>\n    </tr>\n    <tr>\n      <th>4</th>\n      <td>Avi\u017eieni\u0173 k.</td>\n      <td>850.000000</td>\n    </tr>\n  </tbody>\n</table>\n</div>", 
                        "text/plain": "        Neighbourhood  Average price\n0          Antakalnis    1960.942613\n1           Antavilis     973.478085\n2  Auk\u0161tieji Paneriai     923.813263\n3          Avi\u017eieniai    1421.594033\n4        Avi\u017eieni\u0173 k.     850.000000"
                    }, 
                    "output_type": "execute_result"
                }
            ], 
            "source": "data['Price/area'] = data['Price'].div(data['Area'])\nmean_price = data.groupby('Neighbourhood')['Price/area'].agg({'Average price':'mean'}).reset_index()\nmean_price.head()\n"
        }, 
        {
            "execution_count": 22, 
            "cell_type": "code", 
            "metadata": {}, 
            "outputs": [], 
            "source": "address = 'Vilnius'\n\ngeolocator = Nominatim(user_agent=\"vilnius_explore\")\nlocation = geolocator.geocode(address)\nlatitude = location.latitude\nlongitude = location.longitude"
        }, 
        {
            "execution_count": 3, 
            "cell_type": "code", 
            "metadata": {
                "scrolled": true
            }, 
            "outputs": [
                {
                    "ename": "NameError", 
                    "evalue": "name 'latitude' is not defined", 
                    "traceback": [
                        "\u001b[0;31m---------------------------------------------------------------------------\u001b[0m", 
                        "\u001b[0;31mNameError\u001b[0m                                 Traceback (most recent call last)", 
                        "\u001b[0;32m<ipython-input-3-ab6de9af90f9>\u001b[0m in \u001b[0;36m<module>\u001b[0;34m\u001b[0m\n\u001b[1;32m      1\u001b[0m \u001b[0;31m# create map of Toronto using latitude and longitude values\u001b[0m\u001b[0;34m\u001b[0m\u001b[0;34m\u001b[0m\u001b[0;34m\u001b[0m\u001b[0m\n\u001b[0;32m----> 2\u001b[0;31m \u001b[0mmap_vilnius\u001b[0m \u001b[0;34m=\u001b[0m \u001b[0mfolium\u001b[0m\u001b[0;34m.\u001b[0m\u001b[0mMap\u001b[0m\u001b[0;34m(\u001b[0m\u001b[0mlocation\u001b[0m\u001b[0;34m=\u001b[0m\u001b[0;34m[\u001b[0m\u001b[0mlatitude\u001b[0m\u001b[0;34m,\u001b[0m \u001b[0mlongitude\u001b[0m\u001b[0;34m]\u001b[0m\u001b[0;34m,\u001b[0m \u001b[0mzoom_start\u001b[0m\u001b[0;34m=\u001b[0m\u001b[0;36m10\u001b[0m\u001b[0;34m)\u001b[0m\u001b[0;34m\u001b[0m\u001b[0;34m\u001b[0m\u001b[0m\n\u001b[0m\u001b[1;32m      3\u001b[0m \u001b[0;34m\u001b[0m\u001b[0m\n\u001b[1;32m      4\u001b[0m \u001b[0;31m# Filter stuff from dataframe\u001b[0m\u001b[0;34m\u001b[0m\u001b[0;34m\u001b[0m\u001b[0;34m\u001b[0m\u001b[0m\n\u001b[1;32m      5\u001b[0m \u001b[0mneighbourhood\u001b[0m \u001b[0;34m=\u001b[0m \u001b[0mgeo_data\u001b[0m\u001b[0;34m[\u001b[0m\u001b[0;34m'Neighbourhood'\u001b[0m\u001b[0;34m]\u001b[0m\u001b[0;34m\u001b[0m\u001b[0;34m\u001b[0m\u001b[0m\n", 
                        "\u001b[0;31mNameError\u001b[0m: name 'latitude' is not defined"
                    ], 
                    "output_type": "error"
                }
            ], 
            "source": "# create map of Toronto using latitude and longitude values\nmap_vilnius = folium.Map(location=[latitude, longitude], zoom_start=10)\n\n# Filter stuff from dataframe\nneighbourhood = geo_data['Neighbourhood']\n\n# add markers to map\nfor lat, lng, neighbourhood in zip(geo_data['Latitude'], geo_data['Longitude'], geo_data['Neighbourhood']):\n    label = '{}, Vilnius'.format(neighbourhood)\n    label = folium.Popup(label, parse_html=True)\n    folium.CircleMarker(\n        [lat, lng],\n        radius=5,\n        popup=label,\n        color='blue',\n        fill=True,\n        fill_color='#3186cc',\n        fill_opacity=0.7,\n        parse_html=False).add_to(map_vilnius)  "
        }, 
        {
            "execution_count": 2, 
            "cell_type": "code", 
            "metadata": {}, 
            "outputs": [
                {
                    "ename": "NameError", 
                    "evalue": "name 'map_vilnius' is not defined", 
                    "traceback": [
                        "\u001b[0;31m---------------------------------------------------------------------------\u001b[0m", 
                        "\u001b[0;31mNameError\u001b[0m                                 Traceback (most recent call last)", 
                        "\u001b[0;32m<ipython-input-2-7bbeb04a60fe>\u001b[0m in \u001b[0;36m<module>\u001b[0;34m\u001b[0m\n\u001b[0;32m----> 1\u001b[0;31m map_vilnius.choropleth(\n\u001b[0m\u001b[1;32m      2\u001b[0m     \u001b[0mgeo_data\u001b[0m\u001b[0;34m=\u001b[0m\u001b[0mgeo_data\u001b[0m\u001b[0;34m,\u001b[0m\u001b[0;34m\u001b[0m\u001b[0;34m\u001b[0m\u001b[0m\n\u001b[1;32m      3\u001b[0m     \u001b[0mdata\u001b[0m\u001b[0;34m=\u001b[0m\u001b[0msf_df_grouped\u001b[0m\u001b[0;34m,\u001b[0m\u001b[0;34m\u001b[0m\u001b[0;34m\u001b[0m\u001b[0m\n\u001b[1;32m      4\u001b[0m     \u001b[0mcolumns\u001b[0m\u001b[0;34m=\u001b[0m\u001b[0;34m[\u001b[0m\u001b[0;34m'Neighbourhood'\u001b[0m\u001b[0;34m,\u001b[0m \u001b[0;34m'Count'\u001b[0m\u001b[0;34m]\u001b[0m\u001b[0;34m,\u001b[0m\u001b[0;34m\u001b[0m\u001b[0;34m\u001b[0m\u001b[0m\n\u001b[1;32m      5\u001b[0m     \u001b[0mkey_on\u001b[0m\u001b[0;34m=\u001b[0m\u001b[0;34m'feature.properties.DISTRICT'\u001b[0m\u001b[0;34m,\u001b[0m\u001b[0;34m\u001b[0m\u001b[0;34m\u001b[0m\u001b[0m\n", 
                        "\u001b[0;31mNameError\u001b[0m: name 'map_vilnius' is not defined"
                    ], 
                    "output_type": "error"
                }
            ], 
            "source": "map_vilnius.choropleth(\n    geo_data=geo_data,\n    data=sf_df_grouped,\n    columns=['Neighbourhood', 'Count'],\n    key_on='feature.properties.DISTRICT',\n    fill_color='YlOrRd', \n    fill_opacity=0.7, \n    line_opacity=0.2,\n    legend_name='Avg apartment price in Vilnius',\n    reset=True\n)\nmap_vilnius"
        }, 
        {
            "execution_count": null, 
            "cell_type": "code", 
            "metadata": {}, 
            "outputs": [], 
            "source": ""
        }
    ], 
    "metadata": {
        "kernelspec": {
            "display_name": "Python 3.6", 
            "name": "python3", 
            "language": "python"
        }, 
        "language_info": {
            "mimetype": "text/x-python", 
            "nbconvert_exporter": "python", 
            "version": "3.6.8", 
            "name": "python", 
            "file_extension": ".py", 
            "pygments_lexer": "ipython3", 
            "codemirror_mode": {
                "version": 3, 
                "name": "ipython"
            }
        }
    }, 
    "nbformat": 4
}