{
    "nbformat_minor": 1, 
    "cells": [
        {
            "execution_count": 1, 
            "cell_type": "code", 
            "metadata": {}, 
            "outputs": [
                {
                    "output_type": "stream", 
                    "name": "stdout", 
                    "text": "Requirement already satisfied: folium in /opt/conda/envs/Python36/lib/python3.6/site-packages (0.10.0)\nRequirement already satisfied: branca>=0.3.0 in /opt/conda/envs/Python36/lib/python3.6/site-packages (from folium) (0.3.1)\nRequirement already satisfied: numpy in /opt/conda/envs/Python36/lib/python3.6/site-packages (from folium) (1.15.4)\nRequirement already satisfied: jinja2>=2.9 in /opt/conda/envs/Python36/lib/python3.6/site-packages (from folium) (2.10)\nRequirement already satisfied: requests in /opt/conda/envs/Python36/lib/python3.6/site-packages (from folium) (2.21.0)\nRequirement already satisfied: six in /opt/conda/envs/Python36/lib/python3.6/site-packages (from branca>=0.3.0->folium) (1.12.0)\nRequirement already satisfied: MarkupSafe>=0.23 in /opt/conda/envs/Python36/lib/python3.6/site-packages (from jinja2>=2.9->folium) (1.1.0)\nRequirement already satisfied: certifi>=2017.4.17 in /opt/conda/envs/Python36/lib/python3.6/site-packages (from requests->folium) (2019.6.16)\nRequirement already satisfied: chardet<3.1.0,>=3.0.2 in /opt/conda/envs/Python36/lib/python3.6/site-packages (from requests->folium) (3.0.4)\nRequirement already satisfied: idna<2.9,>=2.5 in /opt/conda/envs/Python36/lib/python3.6/site-packages (from requests->folium) (2.8)\nRequirement already satisfied: urllib3<1.25,>=1.21.1 in /opt/conda/envs/Python36/lib/python3.6/site-packages (from requests->folium) (1.24.1)\nRequirement already satisfied: pygeocoder in /opt/conda/envs/Python36/lib/python3.6/site-packages (1.2.5)\nRequirement already satisfied: requests>=1.0 in /opt/conda/envs/Python36/lib/python3.6/site-packages (from pygeocoder) (2.21.0)\nRequirement already satisfied: certifi>=2017.4.17 in /opt/conda/envs/Python36/lib/python3.6/site-packages (from requests>=1.0->pygeocoder) (2019.6.16)\nRequirement already satisfied: chardet<3.1.0,>=3.0.2 in /opt/conda/envs/Python36/lib/python3.6/site-packages (from requests>=1.0->pygeocoder) (3.0.4)\nRequirement already satisfied: idna<2.9,>=2.5 in /opt/conda/envs/Python36/lib/python3.6/site-packages (from requests>=1.0->pygeocoder) (2.8)\nRequirement already satisfied: urllib3<1.25,>=1.21.1 in /opt/conda/envs/Python36/lib/python3.6/site-packages (from requests>=1.0->pygeocoder) (1.24.1)\nRequirement already satisfied: shapely in /opt/conda/envs/Python36/lib/python3.6/site-packages (1.6.4.post2)\nPackages installed\n"
                }
            ], 
            "source": "import pandas as pd\nimport numpy as np\nimport matplotlib.pyplot as plt\nimport seaborn as sns\nfrom sklearn.linear_model import LinearRegression\nfrom geopy.geocoders import Nominatim\n! pip install folium\nimport folium\n! pip install pygeocoder\nfrom pygeocoder import Geocoder\n! pip install shapely\nimport urllib.request, json \nfrom shapely.geometry import Point, Polygon\n\nprint('Packages installed')"
        }, 
        {
            "execution_count": 5, 
            "cell_type": "code", 
            "metadata": {}, 
            "outputs": [
                {
                    "execution_count": 5, 
                    "metadata": {}, 
                    "data": {
                        "text/plain": "(3684, 10)"
                    }, 
                    "output_type": "execute_result"
                }
            ], 
            "source": "# Real estate data\nsheet_url_RD = 'https://docs.google.com/spreadsheets/d/1CiUj-cWcO1D7KN_qfs6jArjfHf9njpUGlrc3Lk2GxO0/edit#gid=915412023'\ncsv_export_url_RD = sheet_url_RD.replace('/edit#gid=', '/export?format=csv&gid=')\naruodas_df = pd.read_csv(csv_export_url_RD)\naruodas_df.rename(columns={'Adresas': 'Adress',\n                     'Rajonas':'Neighbourhood',\n                     'Plotas':'Area',\n                     'Kaina':'Price',\n                     'Metai': 'Year',\n                     '\u0160ildymas': 'Heating',\n                     'Kambari\u0173 sk': 'Rooms',\n                     'Pastato tipas':'Type'}, inplace=True)\n#Size of the dataframe\naruodas_df.shape"
        }, 
        {
            "execution_count": 6, 
            "cell_type": "code", 
            "metadata": {}, 
            "outputs": [
                {
                    "execution_count": 6, 
                    "metadata": {}, 
                    "data": {
                        "text/html": "<div>\n<style scoped>\n    .dataframe tbody tr th:only-of-type {\n        vertical-align: middle;\n    }\n\n    .dataframe tbody tr th {\n        vertical-align: top;\n    }\n\n    .dataframe thead th {\n        text-align: right;\n    }\n</style>\n<table border=\"1\" class=\"dataframe\">\n  <thead>\n    <tr style=\"text-align: right;\">\n      <th></th>\n      <th>Adress</th>\n      <th>Neighbourhood</th>\n      <th>Rooms</th>\n      <th>Area</th>\n      <th>Price</th>\n      <th>Heating</th>\n      <th>Type</th>\n      <th>Year</th>\n      <th>latitude</th>\n      <th>longitude</th>\n    </tr>\n  </thead>\n  <tbody>\n    <tr>\n      <th>0</th>\n      <td>Elbingo g.</td>\n      <td>Pilait\u0117</td>\n      <td>1</td>\n      <td>64.0</td>\n      <td>87000</td>\n      <td>Centriniskolektorinis</td>\n      <td>M\u016brinis</td>\n      <td>2018</td>\n      <td>54.70807</td>\n      <td>25.17026</td>\n    </tr>\n    <tr>\n      <th>1</th>\n      <td>Elbingo g.</td>\n      <td>Pilait\u0117</td>\n      <td>3</td>\n      <td>55.0</td>\n      <td>76000</td>\n      <td>Centriniskolektorinis</td>\n      <td>M\u016brinis</td>\n      <td>2018</td>\n      <td>54.70807</td>\n      <td>25.17026</td>\n    </tr>\n    <tr>\n      <th>2</th>\n      <td>Elbingo g.</td>\n      <td>Pilait\u0117</td>\n      <td>2</td>\n      <td>48.0</td>\n      <td>69000</td>\n      <td>Centriniskolektorinis</td>\n      <td>M\u016brinis</td>\n      <td>2018</td>\n      <td>54.70807</td>\n      <td>25.17026</td>\n    </tr>\n    <tr>\n      <th>3</th>\n      <td>Elbingo g.</td>\n      <td>Pilait\u0117</td>\n      <td>2</td>\n      <td>48.0</td>\n      <td>86000</td>\n      <td>Centriniskolektorinis</td>\n      <td>M\u016brinis</td>\n      <td>2018</td>\n      <td>54.70807</td>\n      <td>25.17026</td>\n    </tr>\n    <tr>\n      <th>4</th>\n      <td>\u017dali\u0173j\u0173 E\u017eer\u0173 g.</td>\n      <td>Santari\u0161k\u0117s</td>\n      <td>2</td>\n      <td>51.5</td>\n      <td>88000</td>\n      <td>Centrinis</td>\n      <td>M\u016brinis</td>\n      <td>1982statyba.2017renovacija</td>\n      <td>54.75269</td>\n      <td>25.27912</td>\n    </tr>\n  </tbody>\n</table>\n</div>", 
                        "text/plain": "             Adress Neighbourhood  Rooms  Area  Price                Heating  \\\n0        Elbingo g.       Pilait\u0117      1  64.0  87000  Centriniskolektorinis   \n1        Elbingo g.       Pilait\u0117      3  55.0  76000  Centriniskolektorinis   \n2        Elbingo g.       Pilait\u0117      2  48.0  69000  Centriniskolektorinis   \n3        Elbingo g.       Pilait\u0117      2  48.0  86000  Centriniskolektorinis   \n4  \u017dali\u0173j\u0173 E\u017eer\u0173 g.   Santari\u0161k\u0117s      2  51.5  88000              Centrinis   \n\n      Type                        Year  latitude  longitude  \n0  M\u016brinis                        2018  54.70807   25.17026  \n1  M\u016brinis                        2018  54.70807   25.17026  \n2  M\u016brinis                        2018  54.70807   25.17026  \n3  M\u016brinis                        2018  54.70807   25.17026  \n4  M\u016brinis  1982statyba.2017renovacija  54.75269   25.27912  "
                    }, 
                    "output_type": "execute_result"
                }
            ], 
            "source": "# DataFrame for housing prices based on current market in aruodas.lt advertisments.\n# Data has been cleaned after all websraping.\naruodas_df.head()"
        }, 
        {
            "execution_count": 7, 
            "cell_type": "code", 
            "metadata": {}, 
            "outputs": [
                {
                    "execution_count": 7, 
                    "metadata": {}, 
                    "data": {
                        "text/plain": "(11415, 8)"
                    }, 
                    "output_type": "execute_result"
                }
            ], 
            "source": "# Companies in Vilnius data\nsheet_url_ED = 'https://docs.google.com/spreadsheets/d/1j4hwuWKW3pnJfG9qdLoxSo8QU7V07HACyH11Y3SeXGw/edit#gid=550410933'\ncsv_export_url_ED = sheet_url_ED.replace('/edit#gid=', '/export?format=csv&gid=')\nenterprise_df = pd.read_csv(csv_export_url_ED)\nenterprise_df.shape"
        }, 
        {
            "execution_count": 8, 
            "cell_type": "code", 
            "metadata": {}, 
            "outputs": [
                {
                    "execution_count": 8, 
                    "metadata": {}, 
                    "data": {
                        "text/html": "<div>\n<style scoped>\n    .dataframe tbody tr th:only-of-type {\n        vertical-align: middle;\n    }\n\n    .dataframe tbody tr th {\n        vertical-align: top;\n    }\n\n    .dataframe thead th {\n        text-align: right;\n    }\n</style>\n<table border=\"1\" class=\"dataframe\">\n  <thead>\n    <tr style=\"text-align: right;\">\n      <th></th>\n      <th>ID</th>\n      <th>name</th>\n      <th>avgWage</th>\n      <th>numInsured</th>\n      <th>tax</th>\n      <th>address</th>\n      <th>latitude</th>\n      <th>longitude</th>\n    </tr>\n  </thead>\n  <tbody>\n    <tr>\n      <th>0</th>\n      <td>63287</td>\n      <td>UAB LABBIS</td>\n      <td>2183.85</td>\n      <td>53</td>\n      <td>26969.73</td>\n      <td>\u017dalgirio g. 92-301 LT-09303 VILNIUS</td>\n      <td>54.703743</td>\n      <td>25.276711</td>\n    </tr>\n    <tr>\n      <th>1</th>\n      <td>56132</td>\n      <td>UAB KOMPONENTAS</td>\n      <td>1317.62</td>\n      <td>5</td>\n      <td>1488.08</td>\n      <td>Kaps\u0173 g. 19 LT-02166 VILNIUS</td>\n      <td>54.660313</td>\n      <td>25.284592</td>\n    </tr>\n    <tr>\n      <th>2</th>\n      <td>57061</td>\n      <td>UAB ELTEL NETWORKS</td>\n      <td>1484.78</td>\n      <td>247</td>\n      <td>85636.92</td>\n      <td>Vilkp\u0117d\u0117s g. 4 LT-03151 VILNIUS</td>\n      <td>54.664582</td>\n      <td>25.247461</td>\n    </tr>\n    <tr>\n      <th>3</th>\n      <td>56147</td>\n      <td>UAB IDW</td>\n      <td>1432.50</td>\n      <td>225</td>\n      <td>74027.54</td>\n      <td>Dariaus ir Gir\u0117no g. 65 A LT-02189 VILNIUS</td>\n      <td>54.646482</td>\n      <td>25.270569</td>\n    </tr>\n    <tr>\n      <th>4</th>\n      <td>59094</td>\n      <td>UAB KONICA MINOLTA BALTIA</td>\n      <td>2194.15</td>\n      <td>54</td>\n      <td>26969.69</td>\n      <td>J. Jasinskio g. 16 LT-01112 VILNIUS</td>\n      <td>54.688118</td>\n      <td>25.261523</td>\n    </tr>\n  </tbody>\n</table>\n</div>", 
                        "text/plain": "      ID                       name  avgWage  numInsured       tax  \\\n0  63287                 UAB LABBIS  2183.85          53  26969.73   \n1  56132            UAB KOMPONENTAS  1317.62           5   1488.08   \n2  57061         UAB ELTEL NETWORKS  1484.78         247  85636.92   \n3  56147                    UAB IDW  1432.50         225  74027.54   \n4  59094  UAB KONICA MINOLTA BALTIA  2194.15          54  26969.69   \n\n                                      address   latitude  longitude  \n0         \u017dalgirio g. 92-301 LT-09303 VILNIUS  54.703743  25.276711  \n1                Kaps\u0173 g. 19 LT-02166 VILNIUS  54.660313  25.284592  \n2             Vilkp\u0117d\u0117s g. 4 LT-03151 VILNIUS  54.664582  25.247461  \n3  Dariaus ir Gir\u0117no g. 65 A LT-02189 VILNIUS  54.646482  25.270569  \n4         J. Jasinskio g. 16 LT-01112 VILNIUS  54.688118  25.261523  "
                    }, 
                    "output_type": "execute_result"
                }
            ], 
            "source": "#Quick look at our data for companies\nenterprise_df.head()"
        }, 
        {
            "execution_count": 9, 
            "cell_type": "code", 
            "metadata": {}, 
            "outputs": [
                {
                    "execution_count": 9, 
                    "metadata": {}, 
                    "data": {
                        "text/plain": "(21, 2)"
                    }, 
                    "output_type": "execute_result"
                }
            ], 
            "source": "# Data set containing GeoJson polygon points for municipalities in Vilnius\n# Our having all our data points, sorted in municipalities will give us a better understanding and easier management of data.\nsheet_url_MD = 'https://docs.google.com/spreadsheets/d/1aELRC65_N_WrufdIjQYlQSxN87wnsl8IufOzn76qJGA/edit#gid=1220023145'\ncsv_export_url_MD = sheet_url_MD.replace('/edit#gid=', '/export?format=csv&gid=')\nmunicipalities_df = pd.read_csv(csv_export_url_MD)\nmunicipalities_df.shape"
        }, 
        {
            "execution_count": 10, 
            "cell_type": "code", 
            "metadata": {}, 
            "outputs": [
                {
                    "execution_count": 10, 
                    "metadata": {}, 
                    "data": {
                        "text/html": "<div>\n<style scoped>\n    .dataframe tbody tr th:only-of-type {\n        vertical-align: middle;\n    }\n\n    .dataframe tbody tr th {\n        vertical-align: top;\n    }\n\n    .dataframe thead th {\n        text-align: right;\n    }\n</style>\n<table border=\"1\" class=\"dataframe\">\n  <thead>\n    <tr style=\"text-align: right;\">\n      <th></th>\n      <th>Municipality</th>\n      <th>JsonPoly</th>\n    </tr>\n  </thead>\n  <tbody>\n    <tr>\n      <th>0</th>\n      <td>Antakalnio seni\u016bnija</td>\n      <td>https://global.mapit.mysociety.org/area/112195...</td>\n    </tr>\n    <tr>\n      <th>1</th>\n      <td>Fabijoni\u0161ki\u0173  seni\u016bnija</td>\n      <td>https://global.mapit.mysociety.org/area/112187...</td>\n    </tr>\n    <tr>\n      <th>2</th>\n      <td>Grigi\u0161ki\u0173 seni\u016bnija</td>\n      <td>https://global.mapit.mysociety.org/area/112159...</td>\n    </tr>\n    <tr>\n      <th>3</th>\n      <td>Justini\u0161ki\u0173 seni\u016bnija</td>\n      <td>https://global.mapit.mysociety.org/area/112186...</td>\n    </tr>\n    <tr>\n      <th>4</th>\n      <td>Karolini\u0161ki\u0173 seni\u016bnija</td>\n      <td>https://global.mapit.mysociety.org/area/112177...</td>\n    </tr>\n    <tr>\n      <th>5</th>\n      <td>Lazdyn\u0173 seni\u016bnija</td>\n      <td>https://global.mapit.mysociety.org/area/112160...</td>\n    </tr>\n    <tr>\n      <th>6</th>\n      <td>Naujamies\u010dio seni\u016bnija</td>\n      <td>https://global.mapit.mysociety.org/area/118468...</td>\n    </tr>\n    <tr>\n      <th>7</th>\n      <td>Naujinink\u0173 seni\u016bnija</td>\n      <td>https://global.mapit.mysociety.org/area/112196...</td>\n    </tr>\n    <tr>\n      <th>8</th>\n      <td>Naujosios Vilnios seni\u016bnija</td>\n      <td>https://global.mapit.mysociety.org/area/112196...</td>\n    </tr>\n    <tr>\n      <th>9</th>\n      <td>Paneri\u0173 seni\u016bnija</td>\n      <td>https://global.mapit.mysociety.org/area/112159...</td>\n    </tr>\n  </tbody>\n</table>\n</div>", 
                        "text/plain": "                  Municipality  \\\n0         Antakalnio seni\u016bnija   \n1      Fabijoni\u0161ki\u0173  seni\u016bnija   \n2          Grigi\u0161ki\u0173 seni\u016bnija   \n3        Justini\u0161ki\u0173 seni\u016bnija   \n4       Karolini\u0161ki\u0173 seni\u016bnija   \n5            Lazdyn\u0173 seni\u016bnija   \n6       Naujamies\u010dio seni\u016bnija   \n7         Naujinink\u0173 seni\u016bnija   \n8  Naujosios Vilnios seni\u016bnija   \n9            Paneri\u0173 seni\u016bnija   \n\n                                            JsonPoly  \n0  https://global.mapit.mysociety.org/area/112195...  \n1  https://global.mapit.mysociety.org/area/112187...  \n2  https://global.mapit.mysociety.org/area/112159...  \n3  https://global.mapit.mysociety.org/area/112186...  \n4  https://global.mapit.mysociety.org/area/112177...  \n5  https://global.mapit.mysociety.org/area/112160...  \n6  https://global.mapit.mysociety.org/area/118468...  \n7  https://global.mapit.mysociety.org/area/112196...  \n8  https://global.mapit.mysociety.org/area/112196...  \n9  https://global.mapit.mysociety.org/area/112159...  "
                    }, 
                    "output_type": "execute_result"
                }
            ], 
            "source": "#Quick look at our data for municipalities_df\nmunicipalities_df.head(10)"
        }, 
        {
            "execution_count": 11, 
            "cell_type": "code", 
            "metadata": {}, 
            "outputs": [], 
            "source": "# In next step I am going to create polygons representing municipalities out of parsed json data\njson_list = municipalities_df['JsonPoly'].to_list()\npoly_list = []\n\nfor i in json_list:\n    with urllib.request.urlopen(i) as url:\n        data = json.load(url)\n        points = [(j[0], j[1]) for j in data['coordinates'][0]]\n        polygon = Polygon(points)\n        poly_list.append(polygon)\n"
        }, 
        {
            "execution_count": 12, 
            "cell_type": "code", 
            "metadata": {}, 
            "outputs": [
                {
                    "execution_count": 12, 
                    "metadata": {}, 
                    "data": {
                        "text/html": "<div>\n<style scoped>\n    .dataframe tbody tr th:only-of-type {\n        vertical-align: middle;\n    }\n\n    .dataframe tbody tr th {\n        vertical-align: top;\n    }\n\n    .dataframe thead th {\n        text-align: right;\n    }\n</style>\n<table border=\"1\" class=\"dataframe\">\n  <thead>\n    <tr style=\"text-align: right;\">\n      <th></th>\n      <th>Municipality</th>\n      <th>JsonPoly</th>\n      <th>ShapelyPolyObj</th>\n    </tr>\n  </thead>\n  <tbody>\n    <tr>\n      <th>0</th>\n      <td>Antakalnio seni\u016bnija</td>\n      <td>https://global.mapit.mysociety.org/area/112195...</td>\n      <td>POLYGON ((25.4256197 54.7298686, 25.4253218 54...</td>\n    </tr>\n    <tr>\n      <th>1</th>\n      <td>Fabijoni\u0161ki\u0173  seni\u016bnija</td>\n      <td>https://global.mapit.mysociety.org/area/112187...</td>\n      <td>POLYGON ((25.2143712 54.7502259, 25.2145271 54...</td>\n    </tr>\n    <tr>\n      <th>2</th>\n      <td>Grigi\u0161ki\u0173 seni\u016bnija</td>\n      <td>https://global.mapit.mysociety.org/area/112159...</td>\n      <td>POLYGON ((25.1098852 54.6638582, 25.1002898 54...</td>\n    </tr>\n    <tr>\n      <th>3</th>\n      <td>Justini\u0161ki\u0173 seni\u016bnija</td>\n      <td>https://global.mapit.mysociety.org/area/112186...</td>\n      <td>POLYGON ((25.1990125 54.7130838, 25.199211 54....</td>\n    </tr>\n    <tr>\n      <th>4</th>\n      <td>Karolini\u0161ki\u0173 seni\u016bnija</td>\n      <td>https://global.mapit.mysociety.org/area/112177...</td>\n      <td>POLYGON ((25.2257631 54.6995595, 25.2264139 54...</td>\n    </tr>\n    <tr>\n      <th>5</th>\n      <td>Lazdyn\u0173 seni\u016bnija</td>\n      <td>https://global.mapit.mysociety.org/area/112160...</td>\n      <td>POLYGON ((25.1918925 54.6830475, 25.1895424 54...</td>\n    </tr>\n    <tr>\n      <th>6</th>\n      <td>Naujamies\u010dio seni\u016bnija</td>\n      <td>https://global.mapit.mysociety.org/area/118468...</td>\n      <td>POLYGON ((25.2866943 54.6694587, 25.2861705 54...</td>\n    </tr>\n    <tr>\n      <th>7</th>\n      <td>Naujinink\u0173 seni\u016bnija</td>\n      <td>https://global.mapit.mysociety.org/area/112196...</td>\n      <td>POLYGON ((25.313623 54.5992503, 25.3116733 54....</td>\n    </tr>\n    <tr>\n      <th>8</th>\n      <td>Naujosios Vilnios seni\u016bnija</td>\n      <td>https://global.mapit.mysociety.org/area/112196...</td>\n      <td>POLYGON ((25.4579355 54.6874558, 25.4588796 54...</td>\n    </tr>\n    <tr>\n      <th>9</th>\n      <td>Paneri\u0173 seni\u016bnija</td>\n      <td>https://global.mapit.mysociety.org/area/112159...</td>\n      <td>POLYGON ((25.2028753 54.6356714, 25.2048006 54...</td>\n    </tr>\n  </tbody>\n</table>\n</div>", 
                        "text/plain": "                  Municipality  \\\n0         Antakalnio seni\u016bnija   \n1      Fabijoni\u0161ki\u0173  seni\u016bnija   \n2          Grigi\u0161ki\u0173 seni\u016bnija   \n3        Justini\u0161ki\u0173 seni\u016bnija   \n4       Karolini\u0161ki\u0173 seni\u016bnija   \n5            Lazdyn\u0173 seni\u016bnija   \n6       Naujamies\u010dio seni\u016bnija   \n7         Naujinink\u0173 seni\u016bnija   \n8  Naujosios Vilnios seni\u016bnija   \n9            Paneri\u0173 seni\u016bnija   \n\n                                            JsonPoly  \\\n0  https://global.mapit.mysociety.org/area/112195...   \n1  https://global.mapit.mysociety.org/area/112187...   \n2  https://global.mapit.mysociety.org/area/112159...   \n3  https://global.mapit.mysociety.org/area/112186...   \n4  https://global.mapit.mysociety.org/area/112177...   \n5  https://global.mapit.mysociety.org/area/112160...   \n6  https://global.mapit.mysociety.org/area/118468...   \n7  https://global.mapit.mysociety.org/area/112196...   \n8  https://global.mapit.mysociety.org/area/112196...   \n9  https://global.mapit.mysociety.org/area/112159...   \n\n                                      ShapelyPolyObj  \n0  POLYGON ((25.4256197 54.7298686, 25.4253218 54...  \n1  POLYGON ((25.2143712 54.7502259, 25.2145271 54...  \n2  POLYGON ((25.1098852 54.6638582, 25.1002898 54...  \n3  POLYGON ((25.1990125 54.7130838, 25.199211 54....  \n4  POLYGON ((25.2257631 54.6995595, 25.2264139 54...  \n5  POLYGON ((25.1918925 54.6830475, 25.1895424 54...  \n6  POLYGON ((25.2866943 54.6694587, 25.2861705 54...  \n7  POLYGON ((25.313623 54.5992503, 25.3116733 54....  \n8  POLYGON ((25.4579355 54.6874558, 25.4588796 54...  \n9  POLYGON ((25.2028753 54.6356714, 25.2048006 54...  "
                    }, 
                    "output_type": "execute_result"
                }
            ], 
            "source": "# Inserting newly made shapely polygons to dataframe\nmunicipalities_df.insert(2, \"ShapelyPolyObj\", poly_list, True)\nmunicipalities_df.head(10)"
        }, 
        {
            "execution_count": 51, 
            "cell_type": "code", 
            "metadata": {}, 
            "outputs": [
                {
                    "output_type": "stream", 
                    "name": "stdout", 
                    "text": "Found containing polygon\n"
                }
            ], 
            "source": "# Now I need to check if my enterprise_df and aruodas_df coord points are within any of these polies.\n# If so, I want them to return dictionaries for both of dataframes, containing Name(enterprise or housing) and Municipality\nif polygon.contains(point):\n    print ('Found containing polygon')\nelse :\n    print('does not')"
        }, 
        {
            "source": "# SUSIRASTI VISUS geosjon failus seni8nijom   <<<<------\n## Sukurti kiekvienam po polygona, ir priskirti pavadinima. Jeigu koordinat4 yra poligone duoti jam ta pav.\n", 
            "cell_type": "markdown", 
            "metadata": {}
        }, 
        {
            "execution_count": 3, 
            "cell_type": "code", 
            "metadata": {
                "scrolled": true
            }, 
            "outputs": [
                {
                    "ename": "NameError", 
                    "evalue": "name 'latitude' is not defined", 
                    "traceback": [
                        "\u001b[0;31m---------------------------------------------------------------------------\u001b[0m", 
                        "\u001b[0;31mNameError\u001b[0m                                 Traceback (most recent call last)", 
                        "\u001b[0;32m<ipython-input-3-ab6de9af90f9>\u001b[0m in \u001b[0;36m<module>\u001b[0;34m\u001b[0m\n\u001b[1;32m      1\u001b[0m \u001b[0;31m# create map of Toronto using latitude and longitude values\u001b[0m\u001b[0;34m\u001b[0m\u001b[0;34m\u001b[0m\u001b[0;34m\u001b[0m\u001b[0m\n\u001b[0;32m----> 2\u001b[0;31m \u001b[0mmap_vilnius\u001b[0m \u001b[0;34m=\u001b[0m \u001b[0mfolium\u001b[0m\u001b[0;34m.\u001b[0m\u001b[0mMap\u001b[0m\u001b[0;34m(\u001b[0m\u001b[0mlocation\u001b[0m\u001b[0;34m=\u001b[0m\u001b[0;34m[\u001b[0m\u001b[0mlatitude\u001b[0m\u001b[0;34m,\u001b[0m \u001b[0mlongitude\u001b[0m\u001b[0;34m]\u001b[0m\u001b[0;34m,\u001b[0m \u001b[0mzoom_start\u001b[0m\u001b[0;34m=\u001b[0m\u001b[0;36m10\u001b[0m\u001b[0;34m)\u001b[0m\u001b[0;34m\u001b[0m\u001b[0;34m\u001b[0m\u001b[0m\n\u001b[0m\u001b[1;32m      3\u001b[0m \u001b[0;34m\u001b[0m\u001b[0m\n\u001b[1;32m      4\u001b[0m \u001b[0;31m# Filter stuff from dataframe\u001b[0m\u001b[0;34m\u001b[0m\u001b[0;34m\u001b[0m\u001b[0;34m\u001b[0m\u001b[0m\n\u001b[1;32m      5\u001b[0m \u001b[0mneighbourhood\u001b[0m \u001b[0;34m=\u001b[0m \u001b[0mgeo_data\u001b[0m\u001b[0;34m[\u001b[0m\u001b[0;34m'Neighbourhood'\u001b[0m\u001b[0;34m]\u001b[0m\u001b[0;34m\u001b[0m\u001b[0;34m\u001b[0m\u001b[0m\n", 
                        "\u001b[0;31mNameError\u001b[0m: name 'latitude' is not defined"
                    ], 
                    "output_type": "error"
                }
            ], 
            "source": "# create map of Toronto using latitude and longitude values\nmap_vilnius = folium.Map(location=[latitude, longitude], zoom_start=10)\n\n# Filter stuff from dataframe\nneighbourhood = geo_data['Neighbourhood']\n\n# add markers to map\nfor lat, lng, neighbourhood in zip(geo_data['Latitude'], geo_data['Longitude'], geo_data['Neighbourhood']):\n    label = '{}, Vilnius'.format(neighbourhood)\n    label = folium.Popup(label, parse_html=True)\n    folium.CircleMarker(\n        [lat, lng],\n        radius=5,\n        popup=label,\n        color='blue',\n        fill=True,\n        fill_color='#3186cc',\n        fill_opacity=0.7,\n        parse_html=False).add_to(map_vilnius)  "
        }
    ], 
    "metadata": {
        "kernelspec": {
            "display_name": "Python 3.6", 
            "name": "python3", 
            "language": "python"
        }, 
        "language_info": {
            "mimetype": "text/x-python", 
            "nbconvert_exporter": "python", 
            "version": "3.6.8", 
            "name": "python", 
            "file_extension": ".py", 
            "pygments_lexer": "ipython3", 
            "codemirror_mode": {
                "version": 3, 
                "name": "ipython"
            }
        }
    }, 
    "nbformat": 4
}